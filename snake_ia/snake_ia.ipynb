{
  "nbformat": 4,
  "nbformat_minor": 0,
  "metadata": {
    "colab": {
      "name": "snake_ia.ipynb",
      "provenance": []
    },
    "kernelspec": {
      "name": "python3",
      "display_name": "Python 3"
    },
    "accelerator": "GPU"
  },
  "cells": [
    {
      "cell_type": "code",
      "metadata": {
        "id": "ZEp5Q8Xo_ben",
        "colab_type": "code",
        "outputId": "ef790c03-e8af-4b9f-b4e1-6f1f42814ad0",
        "colab": {
          "base_uri": "https://localhost:8080/",
          "height": 54
        }
      },
      "source": [
        "from google.colab import drive\n",
        "drive.mount('/content/drive')\n",
        "caminho_drive = '/content/drive/My Drive/colab/snake/'"
      ],
      "execution_count": 9,
      "outputs": [
        {
          "output_type": "stream",
          "text": [
            "Drive already mounted at /content/drive; to attempt to forcibly remount, call drive.mount(\"/content/drive\", force_remount=True).\n"
          ],
          "name": "stdout"
        }
      ]
    },
    {
      "cell_type": "code",
      "metadata": {
        "id": "4KbZ0y9R_7ko",
        "colab_type": "code",
        "outputId": "d7ac47e2-983f-4504-9d5d-ff1c0ef93634",
        "colab": {
          "base_uri": "https://localhost:8080/",
          "height": 730
        }
      },
      "source": [
        "!pip install keras-rl2"
      ],
      "execution_count": 3,
      "outputs": [
        {
          "output_type": "stream",
          "text": [
            "Collecting keras-rl2\n",
            "\u001b[?25l  Downloading https://files.pythonhosted.org/packages/70/df/4d884eccb4a36c596bdeb70442f44e8df1e7ee5bd7a5aad7a80078921ec2/keras-rl2-1.0.3.tar.gz (40kB)\n",
            "\u001b[K     |████████████████████████████████| 51kB 4.0MB/s \n",
            "\u001b[?25hCollecting tensorflow==2.0.0-beta1\n",
            "\u001b[?25l  Downloading https://files.pythonhosted.org/packages/29/6c/2c9a5c4d095c63c2fb37d20def0e4f92685f7aee9243d6aae25862694fd1/tensorflow-2.0.0b1-cp36-cp36m-manylinux1_x86_64.whl (87.9MB)\n",
            "\u001b[K     |████████████████████████████████| 87.9MB 55kB/s \n",
            "\u001b[?25hRequirement already satisfied: keras-preprocessing>=1.0.5 in /usr/local/lib/python3.6/dist-packages (from tensorflow==2.0.0-beta1->keras-rl2) (1.1.0)\n",
            "Requirement already satisfied: protobuf>=3.6.1 in /usr/local/lib/python3.6/dist-packages (from tensorflow==2.0.0-beta1->keras-rl2) (3.10.0)\n",
            "Requirement already satisfied: gast>=0.2.0 in /usr/local/lib/python3.6/dist-packages (from tensorflow==2.0.0-beta1->keras-rl2) (0.3.3)\n",
            "Requirement already satisfied: six>=1.10.0 in /usr/local/lib/python3.6/dist-packages (from tensorflow==2.0.0-beta1->keras-rl2) (1.12.0)\n",
            "Collecting tf-estimator-nightly<1.14.0.dev2019060502,>=1.14.0.dev2019060501\n",
            "\u001b[?25l  Downloading https://files.pythonhosted.org/packages/32/dd/99c47dd007dcf10d63fd895611b063732646f23059c618a373e85019eb0e/tf_estimator_nightly-1.14.0.dev2019060501-py2.py3-none-any.whl (496kB)\n",
            "\u001b[K     |████████████████████████████████| 501kB 44.8MB/s \n",
            "\u001b[?25hRequirement already satisfied: wrapt>=1.11.1 in /usr/local/lib/python3.6/dist-packages (from tensorflow==2.0.0-beta1->keras-rl2) (1.12.1)\n",
            "Requirement already satisfied: absl-py>=0.7.0 in /usr/local/lib/python3.6/dist-packages (from tensorflow==2.0.0-beta1->keras-rl2) (0.9.0)\n",
            "Requirement already satisfied: termcolor>=1.1.0 in /usr/local/lib/python3.6/dist-packages (from tensorflow==2.0.0-beta1->keras-rl2) (1.1.0)\n",
            "Requirement already satisfied: grpcio>=1.8.6 in /usr/local/lib/python3.6/dist-packages (from tensorflow==2.0.0-beta1->keras-rl2) (1.28.1)\n",
            "Collecting tb-nightly<1.14.0a20190604,>=1.14.0a20190603\n",
            "\u001b[?25l  Downloading https://files.pythonhosted.org/packages/a4/96/571b875cd81dda9d5dfa1422a4f9d749e67c0a8d4f4f0b33a4e5f5f35e27/tb_nightly-1.14.0a20190603-py3-none-any.whl (3.1MB)\n",
            "\u001b[K     |████████████████████████████████| 3.1MB 42.7MB/s \n",
            "\u001b[?25hRequirement already satisfied: keras-applications>=1.0.6 in /usr/local/lib/python3.6/dist-packages (from tensorflow==2.0.0-beta1->keras-rl2) (1.0.8)\n",
            "Requirement already satisfied: numpy<2.0,>=1.14.5 in /usr/local/lib/python3.6/dist-packages (from tensorflow==2.0.0-beta1->keras-rl2) (1.18.3)\n",
            "Requirement already satisfied: wheel>=0.26 in /usr/local/lib/python3.6/dist-packages (from tensorflow==2.0.0-beta1->keras-rl2) (0.34.2)\n",
            "Requirement already satisfied: astor>=0.6.0 in /usr/local/lib/python3.6/dist-packages (from tensorflow==2.0.0-beta1->keras-rl2) (0.8.1)\n",
            "Requirement already satisfied: google-pasta>=0.1.6 in /usr/local/lib/python3.6/dist-packages (from tensorflow==2.0.0-beta1->keras-rl2) (0.2.0)\n",
            "Requirement already satisfied: setuptools in /usr/local/lib/python3.6/dist-packages (from protobuf>=3.6.1->tensorflow==2.0.0-beta1->keras-rl2) (46.1.3)\n",
            "Requirement already satisfied: markdown>=2.6.8 in /usr/local/lib/python3.6/dist-packages (from tb-nightly<1.14.0a20190604,>=1.14.0a20190603->tensorflow==2.0.0-beta1->keras-rl2) (3.2.1)\n",
            "Requirement already satisfied: werkzeug>=0.11.15 in /usr/local/lib/python3.6/dist-packages (from tb-nightly<1.14.0a20190604,>=1.14.0a20190603->tensorflow==2.0.0-beta1->keras-rl2) (1.0.1)\n",
            "Requirement already satisfied: h5py in /usr/local/lib/python3.6/dist-packages (from keras-applications>=1.0.6->tensorflow==2.0.0-beta1->keras-rl2) (2.10.0)\n",
            "Building wheels for collected packages: keras-rl2\n",
            "  Building wheel for keras-rl2 (setup.py) ... \u001b[?25l\u001b[?25hdone\n",
            "  Created wheel for keras-rl2: filename=keras_rl2-1.0.3-cp36-none-any.whl size=52852 sha256=ea6cea3563b312620ade25a2eb1241ec49406407d6f9d93e4d531cc7a8601f5a\n",
            "  Stored in directory: /root/.cache/pip/wheels/75/70/d7/65d0ca0a87c24f988435973065ef7ddf78af43a603a035aac0\n",
            "Successfully built keras-rl2\n",
            "Installing collected packages: tf-estimator-nightly, tb-nightly, tensorflow, keras-rl2\n",
            "  Found existing installation: tensorflow 2.2.0rc3\n",
            "    Uninstalling tensorflow-2.2.0rc3:\n",
            "      Successfully uninstalled tensorflow-2.2.0rc3\n",
            "Successfully installed keras-rl2-1.0.3 tb-nightly-1.14.0a20190603 tensorflow-2.0.0b1 tf-estimator-nightly-1.14.0.dev2019060501\n"
          ],
          "name": "stdout"
        }
      ]
    },
    {
      "cell_type": "code",
      "metadata": {
        "id": "REbl_5nc_-YE",
        "colab_type": "code",
        "outputId": "f85c2ba3-d252-4af7-fd46-962dd384eaa7",
        "colab": {
          "base_uri": "https://localhost:8080/",
          "height": 481
        }
      },
      "source": [
        "import pandas as pd\n",
        "import numpy as np\n",
        "from datetime import datetime, timedelta\n",
        "import math\n",
        "import matplotlib.pyplot as plt\n",
        "import warnings\n",
        "\n",
        "from sklearn.preprocessing import StandardScaler\n",
        "\n",
        "import gym\n",
        "from gym import spaces\n",
        "\n",
        "from tensorflow.keras import models\n",
        "from tensorflow.keras import layers\n",
        "from tensorflow.keras import optimizers\n",
        "from tensorflow.keras.constraints import max_norm\n",
        "\n",
        "from rl.agents.dqn import DQNAgent\n",
        "from rl.memory import SequentialMemory\n",
        "from rl.policy import GreedyQPolicy, EpsGreedyQPolicy, LinearAnnealedPolicy\n",
        "from keras.callbacks.callbacks import LambdaCallback\n",
        "from rl.callbacks import FileLogger, ModelIntervalCheckpoint"
      ],
      "execution_count": 5,
      "outputs": [
        {
          "output_type": "stream",
          "text": [
            "/usr/local/lib/python3.6/dist-packages/tensorflow/python/framework/dtypes.py:516: FutureWarning: Passing (type, 1) or '1type' as a synonym of type is deprecated; in a future version of numpy, it will be understood as (type, (1,)) / '(1,)type'.\n",
            "  _np_qint8 = np.dtype([(\"qint8\", np.int8, 1)])\n",
            "/usr/local/lib/python3.6/dist-packages/tensorflow/python/framework/dtypes.py:517: FutureWarning: Passing (type, 1) or '1type' as a synonym of type is deprecated; in a future version of numpy, it will be understood as (type, (1,)) / '(1,)type'.\n",
            "  _np_quint8 = np.dtype([(\"quint8\", np.uint8, 1)])\n",
            "/usr/local/lib/python3.6/dist-packages/tensorflow/python/framework/dtypes.py:518: FutureWarning: Passing (type, 1) or '1type' as a synonym of type is deprecated; in a future version of numpy, it will be understood as (type, (1,)) / '(1,)type'.\n",
            "  _np_qint16 = np.dtype([(\"qint16\", np.int16, 1)])\n",
            "/usr/local/lib/python3.6/dist-packages/tensorflow/python/framework/dtypes.py:519: FutureWarning: Passing (type, 1) or '1type' as a synonym of type is deprecated; in a future version of numpy, it will be understood as (type, (1,)) / '(1,)type'.\n",
            "  _np_quint16 = np.dtype([(\"quint16\", np.uint16, 1)])\n",
            "/usr/local/lib/python3.6/dist-packages/tensorflow/python/framework/dtypes.py:520: FutureWarning: Passing (type, 1) or '1type' as a synonym of type is deprecated; in a future version of numpy, it will be understood as (type, (1,)) / '(1,)type'.\n",
            "  _np_qint32 = np.dtype([(\"qint32\", np.int32, 1)])\n",
            "/usr/local/lib/python3.6/dist-packages/tensorflow/python/framework/dtypes.py:525: FutureWarning: Passing (type, 1) or '1type' as a synonym of type is deprecated; in a future version of numpy, it will be understood as (type, (1,)) / '(1,)type'.\n",
            "  np_resource = np.dtype([(\"resource\", np.ubyte, 1)])\n",
            "/usr/local/lib/python3.6/dist-packages/tensorboard/compat/tensorflow_stub/dtypes.py:541: FutureWarning: Passing (type, 1) or '1type' as a synonym of type is deprecated; in a future version of numpy, it will be understood as (type, (1,)) / '(1,)type'.\n",
            "  _np_qint8 = np.dtype([(\"qint8\", np.int8, 1)])\n",
            "/usr/local/lib/python3.6/dist-packages/tensorboard/compat/tensorflow_stub/dtypes.py:542: FutureWarning: Passing (type, 1) or '1type' as a synonym of type is deprecated; in a future version of numpy, it will be understood as (type, (1,)) / '(1,)type'.\n",
            "  _np_quint8 = np.dtype([(\"quint8\", np.uint8, 1)])\n",
            "/usr/local/lib/python3.6/dist-packages/tensorboard/compat/tensorflow_stub/dtypes.py:543: FutureWarning: Passing (type, 1) or '1type' as a synonym of type is deprecated; in a future version of numpy, it will be understood as (type, (1,)) / '(1,)type'.\n",
            "  _np_qint16 = np.dtype([(\"qint16\", np.int16, 1)])\n",
            "/usr/local/lib/python3.6/dist-packages/tensorboard/compat/tensorflow_stub/dtypes.py:544: FutureWarning: Passing (type, 1) or '1type' as a synonym of type is deprecated; in a future version of numpy, it will be understood as (type, (1,)) / '(1,)type'.\n",
            "  _np_quint16 = np.dtype([(\"quint16\", np.uint16, 1)])\n",
            "/usr/local/lib/python3.6/dist-packages/tensorboard/compat/tensorflow_stub/dtypes.py:545: FutureWarning: Passing (type, 1) or '1type' as a synonym of type is deprecated; in a future version of numpy, it will be understood as (type, (1,)) / '(1,)type'.\n",
            "  _np_qint32 = np.dtype([(\"qint32\", np.int32, 1)])\n",
            "/usr/local/lib/python3.6/dist-packages/tensorboard/compat/tensorflow_stub/dtypes.py:550: FutureWarning: Passing (type, 1) or '1type' as a synonym of type is deprecated; in a future version of numpy, it will be understood as (type, (1,)) / '(1,)type'.\n",
            "  np_resource = np.dtype([(\"resource\", np.ubyte, 1)])\n",
            "Using TensorFlow backend.\n"
          ],
          "name": "stderr"
        }
      ]
    },
    {
      "cell_type": "code",
      "metadata": {
        "id": "m0f9Xv6VAA7v",
        "colab_type": "code",
        "colab": {}
      },
      "source": [
        "def cria_modelo(n_acoes, input_shape, porc_dropout):\n",
        "\n",
        "    rna = models.Sequential()\n",
        "    rna.add(layers.Flatten(input_shape=input_shape))\n",
        "\n",
        "    rna.add(layers.Dense(16,activation='relu', kernel_constraint=max_norm(3)))\n",
        "    rna.add(layers.Dropout(porc_dropout))\n",
        "\n",
        "    rna.add(layers.Dense(16,activation='relu', kernel_constraint=max_norm(3)))\n",
        "    rna.add(layers.Dropout(porc_dropout))\n",
        "\n",
        "    rna.add(layers.Dense(8,activation='relu', kernel_constraint=max_norm(3)))\n",
        "    rna.add(layers.Dropout(porc_dropout))\n",
        "\n",
        "    rna.add(layers.Dense(n_acoes, activation='softmax'))\n",
        "\n",
        "    #rna.compile(optimizer='sgd', loss='mse')\n",
        "    #rna.compile(optimizer='sgd', loss='mse', metrics=['accuracy'])\n",
        "\n",
        "    return rna"
      ],
      "execution_count": 0,
      "outputs": []
    },
    {
      "cell_type": "code",
      "metadata": {
        "id": "KO2pPClNAMfZ",
        "colab_type": "code",
        "colab": {}
      },
      "source": [
        "class SnakeEnv(gym.Env):\n",
        "    def __init__(self, janela_aprendizado):\n",
        "        self.n_acoes = 4\n",
        "        self.action_space = spaces.Discrete(self.n_acoes)\n",
        "        self.observation_space = spaces.Box( low=-1 , high=1 , shape=(janela_aprendizado,) + (25, 25) )\n",
        "        self.campo = None\n",
        "        self.qnt_linhas = None\n",
        "        self.qnt_colunas = None\n",
        "        self.posicoes_cobra = []\n",
        "        self.desconto_por_casa = -0.001\n",
        "        self.reset()\n",
        "\n",
        "    def observacao(self):\n",
        "        obs = []\n",
        "        for i in range( len(self.campo[0]) ):\n",
        "            obs.append( self.campo[0][i] )\n",
        "        return obs\n",
        "\n",
        "    def step(self, acao):\n",
        "        \n",
        "        recompensa = None\n",
        "        acabou = False\n",
        "        regret = 0\n",
        "\n",
        "        posicao_cabeca_x = self.posicoes_cobra[0][0]\n",
        "        posicao_cabeca_y = self.posicoes_cobra[0][1]\n",
        "        posicao_rabo_x = self.posicoes_cobra[-1][0]\n",
        "        posicao_rabo_y = self.posicoes_cobra[-1][1]\n",
        "        \n",
        "        if acao == 0: #cima\n",
        "            posicao_cabeca_y += -1\n",
        "        elif acao == 1: #direita\n",
        "            posicao_cabeca_x += 1\n",
        "        elif acao == 2: #baixo\n",
        "            posicao_cabeca_y += 1\n",
        "        elif acao == 3: #esquerda\n",
        "            posicao_cabeca_x += -1\n",
        "\n",
        "        if posicao_cabeca_x >= self.qnt_linhas or posicao_cabeca_y >= self.qnt_colunas:\n",
        "            recompensa = -1\n",
        "        else:\n",
        "            recompensa = self.campo[0][ posicao_cabeca_y ][ posicao_cabeca_x ]\n",
        "\n",
        "        if recompensa == -1:\n",
        "            acabou = True\n",
        "        else:\n",
        "            self.posicoes_cobra.insert(0, [ posicao_cabeca_x, posicao_cabeca_y ])\n",
        "            self.campo[0][posicao_cabeca_y][posicao_cabeca_x] = -1\n",
        "\n",
        "            if recompensa == 1:\n",
        "                self.gera_maca()\n",
        "            else:\n",
        "                self.posicoes_cobra.pop()\n",
        "                self.campo[0][posicao_rabo_y][posicao_rabo_x] = self.desconto_por_casa\n",
        "\n",
        "        return self.observacao(), recompensa, acabou, {'regret':regret}\n",
        "\n",
        "    def gera_maca(self):\n",
        "        linha = 0\n",
        "        coluna = 0\n",
        "        while self.campo[0][linha][coluna] == -1:\n",
        "            linha = np.random.choice( self.qnt_linhas )\n",
        "            coluna = np.random.choice( self.qnt_colunas )\n",
        "        self.campo[0][linha][coluna] = 1\n",
        "\n",
        "    def reset(self):\n",
        "        self.campo = np.full( self.observation_space.shape, self.desconto_por_casa )\n",
        "        self.qnt_linhas = len(self.campo[0][0])\n",
        "        self.qnt_colunas = len(self.campo[0])\n",
        "        self.campo[0][0] = -1\n",
        "        self.campo[0][-1] = -1\n",
        "        for i in range(len(self.campo[0])):\n",
        "            self.campo[0][i][0] = -1\n",
        "            self.campo[0][i][-1] = -1\n",
        "        self.posicoes_cobra.append( [int(self.qnt_linhas / 2 + 1), int(self.qnt_colunas / 2 + 1)] )\n",
        "        self.posicoes_cobra.append( [self.posicoes_cobra[0][0], self.posicoes_cobra[0][1] + 1] )\n",
        "        self.campo[0][ self.posicoes_cobra[0][1] ][ self.posicoes_cobra[0][0] ] = -1\n",
        "        self.campo[0][ self.posicoes_cobra[-1][1] ][ self.posicoes_cobra[-1][0] ] = -1\n",
        "        self.gera_maca()\n",
        "        return self.observacao()\n",
        "\n",
        "    def render(self, mode='human'):\n",
        "        pass"
      ],
      "execution_count": 0,
      "outputs": []
    },
    {
      "cell_type": "code",
      "metadata": {
        "id": "0MCOE-THAOLE",
        "colab_type": "code",
        "outputId": "7661dc8d-b527-4d89-e3ff-ad1b2bc9c43d",
        "colab": {
          "base_uri": "https://localhost:8080/",
          "height": 72
        }
      },
      "source": [
        "np.random.seed(10)\n",
        "\n",
        "janela_aprendizado = 1 #quantas linhas da memoria vai pegar pra treinar o modelo por vez\n",
        "ambiente = SnakeEnv( janela_aprendizado ) #cria o ambiente para o jogo\n",
        "n_acoes = ambiente.n_acoes #define o numero de saidas da rede\n",
        "input_shape = ambiente.observation_space.shape\n",
        "\n",
        "memoria = SequentialMemory(limit=50000, window_length=janela_aprendizado)\n",
        "modelo = cria_modelo( n_acoes, input_shape, 0.2 )\n",
        "metricas = ['accuracy']\n",
        "\n",
        "n_steps_1 = 500000\n",
        "n_steps_2 = 200000\n",
        "n_steps_aquecimento = 100\n",
        "n_steps_1_por_1000 = int(n_steps_1 / 1000)\n",
        "n_steps_2_por_1000 = int(n_steps_2 / 1000)\n",
        "\n",
        "n_max_steps_por_episodio = 1000\n",
        "\n",
        "agora = str( datetime.now() - timedelta(hours = 3) ).replace(' ', '_') #horario de brasilia UTC-3\n",
        "caminho_export = '{0}{1}_{2}k_{3}k_steps_'.format( caminho_drive, agora, n_steps_1_por_1000, n_steps_2_por_1000 )"
      ],
      "execution_count": 14,
      "outputs": [
        {
          "output_type": "stream",
          "text": [
            "/usr/local/lib/python3.6/dist-packages/gym/logger.py:30: UserWarning: \u001b[33mWARN: Box bound precision lowered by casting to float32\u001b[0m\n",
            "  warnings.warn(colorize('%s: %s'%('WARN', msg % args), 'yellow'))\n"
          ],
          "name": "stderr"
        }
      ]
    },
    {
      "cell_type": "code",
      "metadata": {
        "id": "mHoSFDE0AQle",
        "colab_type": "code",
        "outputId": "54169884-0032-492e-cf48-d801955cca9d",
        "colab": {
          "base_uri": "https://localhost:8080/",
          "height": 90
        }
      },
      "source": [
        "eps_max = 1\n",
        "eps_min = 0\n",
        "politica = LinearAnnealedPolicy( inner_policy=EpsGreedyQPolicy(), attr='eps', value_max=eps_max, value_min=eps_min, nb_steps=n_steps_1, value_test=0 ) #0.2 antes do decay\n",
        "agente = DQNAgent( model=modelo, policy=politica, nb_actions=n_acoes, memory=memoria, enable_double_dqn=True, test_policy=GreedyQPolicy(), nb_steps_warmup=n_steps_aquecimento )\n",
        "agente.compile(optimizers.Adam(), metrics=metricas)\n",
        "\n",
        "resultados_treino = []\n",
        "intervalo_log_1 = int( n_steps_1 / 5 )\n",
        "intervalo_modelo_1 = int( n_steps_1 / 5 )\n",
        "callbacks_treino_1 = []\n",
        "callbacks_treino_1.append( FileLogger( 'log_1.log' ) )\n",
        "callbacks_treino_1.append( FileLogger( '{0}log_1.log'.format( caminho_export ) ) )\n",
        "callbacks_treino_1.append( LambdaCallback( on_batch_end=lambda batch,logs: resultados_treino.append( logs ) ) )\n",
        "callbacks_treino_1.append( ModelIntervalCheckpoint( '{0}dqn_1.h5f'.format( caminho_export ) , interval=intervalo_modelo_1 ) )\n",
        "historia_treino = agente.fit(env=ambiente, nb_steps=n_steps_1, visualize=False, verbose=1, callbacks=callbacks_treino_1, log_interval=intervalo_log_1, nb_max_episode_steps=n_max_steps_por_episodio)\n",
        "#historia_treino = agente.fit(env=ambiente, nb_steps=n_steps_1, visualize=False, verbose=0, callbacks=callbacks_treino_1)\n",
        "\n",
        "agente.save_weights('dqn_1.h5f', overwrite=True)\n",
        "agente.save_weights( '{0}dqn_1.h5f'.format( caminho_export ), overwrite=True )"
      ],
      "execution_count": 15,
      "outputs": [
        {
          "output_type": "stream",
          "text": [
            "Training for 500000 steps ...\n",
            "Interval 1 (0 steps performed)\n",
            "  9430/100000 [=>............................] - ETA: 15:15 - reward: -0.3757done, took 95.427 seconds\n"
          ],
          "name": "stdout"
        }
      ]
    },
    {
      "cell_type": "code",
      "metadata": {
        "id": "_DzFzZB5AQrZ",
        "colab_type": "code",
        "colab": {
          "base_uri": "https://localhost:8080/",
          "height": 90
        },
        "outputId": "5aa8f8c8-737c-4841-eda3-5d135557ff7f"
      },
      "source": [
        "agente = DQNAgent( model=modelo, policy=GreedyQPolicy(), nb_actions=n_acoes, memory=memoria )\n",
        "agente.compile(optimizers.Adam(), metrics=metricas)\n",
        "agente.load_weights('dqn_1.h5f')\n",
        "\n",
        "intervalo_log_2 = int( n_steps_2 / 5 )\n",
        "intervalo_modelo_2 = int( n_steps_2 / 5 )\n",
        "callbacks_treino_2 = []\n",
        "callbacks_treino_2.append( FileLogger( 'log_2.log' ) )\n",
        "callbacks_treino_2.append( FileLogger( '{0}log_2.log'.format( caminho_export ) ) )\n",
        "callbacks_treino_2.append( LambdaCallback( on_batch_end=lambda batch,logs: resultados_treino.append( logs ) ) )\n",
        "callbacks_treino_2.append( ModelIntervalCheckpoint( '{0}dqn_2.h5f'.format( caminho_export ) , interval=intervalo_modelo_2 ) )\n",
        "historia_treino_2 = agente.fit(env=ambiente, nb_steps=n_steps_2, visualize=False, verbose=1, callbacks=callbacks_treino_2, log_interval=intervalo_log_2, nb_max_episode_steps=n_max_steps_por_episodio)\n",
        "#historia_treino_2 = agente.fit(env=ambiente, nb_steps=n_steps_teste, visualize=False, verbose=0, callbacks=callbacks_treino_2)\n",
        "\n",
        "agente.save_weights('dqn_2.h5f', overwrite=True)\n",
        "agente.save_weights( '{0}dqn_2.h5f'.format( caminho_export ) , overwrite=True )"
      ],
      "execution_count": 16,
      "outputs": [
        {
          "output_type": "stream",
          "text": [
            "Training for 200000 steps ...\n",
            "Interval 1 (0 steps performed)\n",
            " 1160/40000 [..............................] - ETA: 1:44 - reward: -0.0553done, took 3.160 seconds\n"
          ],
          "name": "stdout"
        }
      ]
    },
    {
      "cell_type": "code",
      "metadata": {
        "id": "Psg3Kf3MASWn",
        "colab_type": "code",
        "colab": {
          "base_uri": "https://localhost:8080/",
          "height": 1000
        },
        "outputId": "9facaf12-a911-4385-828e-f570d93738c5"
      },
      "source": [
        "plt.style.use('seaborn')\n",
        "#nm_metricas = ['recompensa', 'regret', 'loss', 'accuracy', 'mean_q', 'mean_eps']\n",
        "nm_metricas = ['recompensa', 'regret', 'loss', 'accuracy', 'mean_q', 'mean_eps']\n",
        "metrica_max = [True, True, False, True, False, False]\n",
        "divisores = [1, 10] #quantidade de episodios a dividir a media\n",
        "result = resultados_treino\n",
        "n_resultados = len(result)\n",
        "tipo = 'treino_full'\n",
        "pular_n_steps = n_steps_aquecimento\n",
        "fig_size_x = 20\n",
        "fig_size_y = len(nm_metricas) * 6\n",
        "\n",
        "fig, axs = plt.subplots(len(nm_metricas), len(divisores), gridspec_kw={'hspace': 0.4, 'wspace': 0.2}, figsize=( fig_size_x , fig_size_y ))\n",
        "#fig.suptitle('Medias por episodios do {}'.format(tipo))\n",
        "for metrica_i in range(len(nm_metricas)):\n",
        "\n",
        "    nm_metrica = nm_metricas[metrica_i]\n",
        "    if len(divisores) == 1:\n",
        "        axs[metrica_i].set(ylabel=nm_metrica)\n",
        "    else:\n",
        "        axs[metrica_i][0].set(ylabel=nm_metrica)\n",
        "    grafico = 0\n",
        "\n",
        "    for divisor in divisores:\n",
        "\n",
        "        axes = None\n",
        "        if len(divisores) == 1:\n",
        "            axes = axs[metrica_i]\n",
        "        else:\n",
        "            axes = axs[metrica_i][grafico]\n",
        "        grafico = 0\n",
        "        axes.set(title='Media do(a) {} a cada {} episodios'.format(nm_metrica, divisor))\n",
        "\n",
        "        hist_metricas = []\n",
        "        metricas_media = []\n",
        "        metricas_ref = []\n",
        "        ref = result[pular_n_steps]['episode']\n",
        "\n",
        "        # [ posicao em x do maior ponto na media , posicao y do maior ponto na media , maior ponto ]\n",
        "        max_metrica_media_1 = [None, None]\n",
        "        min_metrica_media_1 = [None, None]\n",
        "\n",
        "        for i in range(0, n_resultados + 1):\n",
        "            if len(hist_metricas) % divisor == 0 and len(hist_metricas) > 0:\n",
        "                metricas_media.append( sum(hist_metricas[-divisor:]) / divisor )\n",
        "                #pega maximos e minimos\n",
        "                if max_metrica_media_1[1] == None or metricas_media[-1] >= max_metrica_media_1[1]:\n",
        "                    max_metrica_media_1[0] = i / divisor\n",
        "                    max_metrica_media_1[1] = metricas_media[-1]\n",
        "                if min_metrica_media_1[1] == None or metricas_media[-1] <= min_metrica_media_1[1]:\n",
        "                    min_metrica_media_1[0] = i / divisor\n",
        "                    min_metrica_media_1[1] = metricas_media[-1]\n",
        "            if (i == n_resultados or result[i]['episode'] != ref) and len(metricas_ref) > 0:\n",
        "                hist_metricas.append( sum(metricas_ref) / len(metricas_ref) )\n",
        "                ref += 1\n",
        "                metricas_ref = []\n",
        "            if i < n_resultados:\n",
        "                if metrica_i == 0: #recompensa\n",
        "                    metricas_ref.append( result[i]['reward'] )\n",
        "                elif metrica_i == 1: #regret\n",
        "                    metricas_ref.append( result[i]['info']['regret'] )\n",
        "                else: #outras metricas\n",
        "                    if metrica_i - 2 == len(result[i]['metrics']): #se for o epsilon\n",
        "                        metricas_ref.append( 0 )\n",
        "                    else:\n",
        "                        if not math.isnan( result[i]['metrics'][metrica_i-2] ): #tem que ser diferente de Not a Number (NaN)\n",
        "                            metricas_ref.append( result[i]['metrics'][metrica_i-2] )\n",
        "\n",
        "        n_steps_media_treino_1 = int((n_steps_1 - pular_n_steps) / divisor)\n",
        "        n_steps_media_total = len(metricas_media)\n",
        "        #plota grafico\n",
        "        x_plot = np.arange(n_steps_media_total)\n",
        "        axes.set(xlabel='episodio / {}'.format(divisor))\n",
        "        axes.plot(x_plot, metricas_media)\n",
        "        #linha de tendencia antes do epsilon = 0\n",
        "        z = np.polyfit(x_plot[:n_steps_media_treino_1], metricas_media[:n_steps_media_treino_1], 1)\n",
        "        p = np.poly1d(z)\n",
        "        axes.plot(x_plot[:n_steps_media_treino_1], p(x_plot[:n_steps_media_treino_1]), c='#ff0000', ls=\"--\", linewidth=3, label='tendencia eps decay')\n",
        "        #linha de tendencia antes do epsilon = 0\n",
        "        z = np.polyfit(x_plot[n_steps_media_treino_1:], metricas_media[n_steps_media_treino_1:], 1)\n",
        "        p = np.poly1d(z)\n",
        "        axes.plot(x_plot[n_steps_media_treino_1:], p(x_plot[n_steps_media_treino_1:]), c='#ff0000', ls=\"--\", linewidth=3, label='tendencia eps = 0')\n",
        "        #maximo e minimo\n",
        "        if metrica_max[metrica_i]:\n",
        "            #linha de maximo_1\n",
        "            anotacao_x_max = max_metrica_media_1[0]\n",
        "            if max_metrica_media_1[0] > n_steps_media_total / 2:\n",
        "                anotacao_x_max = n_steps_media_total * 0.9\n",
        "            anotacao_y_max = ((max_metrica_media_1[1] - min_metrica_media_1[1]) * 0.6) + min_metrica_media_1[1]\n",
        "            axes.axhline(max_metrica_media_1[1], c='#ff6600', ls='--', linewidth=2, label='maximo_1')\n",
        "            axes.annotate( 'max_1 = {:.4f}'.format(max_metrica_media_1[1]), \n",
        "                                            xy=( max_metrica_media_1[0] , max_metrica_media_1[1] ),\n",
        "                                            xytext=( anotacao_x_max , anotacao_y_max ),\n",
        "                                            arrowprops=dict(facecolor='black', shrink=0.05) )\n",
        "        else:\n",
        "            #linha de minimo_1\n",
        "            anotacao_x_min = min_metrica_media_1[0]\n",
        "            if min_metrica_media_1[0] > n_steps_media_total / 2:\n",
        "                anotacao_x_min = n_steps_media_total * 0.9\n",
        "            anotacao_y_min = ((max_metrica_media_1[1] - min_metrica_media_1[1]) * 0.4) + min_metrica_media_1[1]\n",
        "            axes.axhline(min_metrica_media_1[1], c='#ff6600', ls='--', linewidth=2, label='minimo_1')\n",
        "            axes.annotate( 'min_1 = {:.4f}'.format(min_metrica_media_1[1]),\n",
        "                                            xy=( min_metrica_media_1[0] , min_metrica_media_1[1] ),\n",
        "                                            xytext=( anotacao_x_min , anotacao_y_min ),\n",
        "                                            arrowprops=dict(facecolor='black', shrink=0.03) )\n",
        "        #linha do epsilon = 0\n",
        "        axes.axvline( x=n_steps_media_treino_1, c='#00ff00' , linewidth=1, label='epsilon = 0')\n",
        "        \n",
        "        grafico += 1\n",
        "\n",
        "fig.show()\n",
        "fig.savefig('result_{}.png'.format(tipo), bbox_inches='tight') #salva o grafico em uma foto\n",
        "fig.savefig('{0}result_{1}.png'.format( caminho_export, tipo ), bbox_inches='tight') #salva o grafico em uma foto"
      ],
      "execution_count": 17,
      "outputs": [
        {
          "output_type": "error",
          "ename": "TypeError",
          "evalue": "ignored",
          "traceback": [
            "\u001b[0;31m---------------------------------------------------------------------------\u001b[0m",
            "\u001b[0;31mTypeError\u001b[0m                                 Traceback (most recent call last)",
            "\u001b[0;32m<ipython-input-17-abcb07a3cfa7>\u001b[0m in \u001b[0;36m<module>\u001b[0;34m()\u001b[0m\n\u001b[1;32m     78\u001b[0m         \u001b[0maxes\u001b[0m\u001b[0;34m.\u001b[0m\u001b[0mplot\u001b[0m\u001b[0;34m(\u001b[0m\u001b[0mx_plot\u001b[0m\u001b[0;34m[\u001b[0m\u001b[0;34m:\u001b[0m\u001b[0mn_steps_media_treino_1\u001b[0m\u001b[0;34m]\u001b[0m\u001b[0;34m,\u001b[0m \u001b[0mp\u001b[0m\u001b[0;34m(\u001b[0m\u001b[0mx_plot\u001b[0m\u001b[0;34m[\u001b[0m\u001b[0;34m:\u001b[0m\u001b[0mn_steps_media_treino_1\u001b[0m\u001b[0;34m]\u001b[0m\u001b[0;34m)\u001b[0m\u001b[0;34m,\u001b[0m \u001b[0mc\u001b[0m\u001b[0;34m=\u001b[0m\u001b[0;34m'#ff0000'\u001b[0m\u001b[0;34m,\u001b[0m \u001b[0mls\u001b[0m\u001b[0;34m=\u001b[0m\u001b[0;34m\"--\"\u001b[0m\u001b[0;34m,\u001b[0m \u001b[0mlinewidth\u001b[0m\u001b[0;34m=\u001b[0m\u001b[0;36m3\u001b[0m\u001b[0;34m,\u001b[0m \u001b[0mlabel\u001b[0m\u001b[0;34m=\u001b[0m\u001b[0;34m'tendencia eps decay'\u001b[0m\u001b[0;34m)\u001b[0m\u001b[0;34m\u001b[0m\u001b[0;34m\u001b[0m\u001b[0m\n\u001b[1;32m     79\u001b[0m         \u001b[0;31m#linha de tendencia antes do epsilon = 0\u001b[0m\u001b[0;34m\u001b[0m\u001b[0;34m\u001b[0m\u001b[0;34m\u001b[0m\u001b[0m\n\u001b[0;32m---> 80\u001b[0;31m         \u001b[0mz\u001b[0m \u001b[0;34m=\u001b[0m \u001b[0mnp\u001b[0m\u001b[0;34m.\u001b[0m\u001b[0mpolyfit\u001b[0m\u001b[0;34m(\u001b[0m\u001b[0mx_plot\u001b[0m\u001b[0;34m[\u001b[0m\u001b[0mn_steps_media_treino_1\u001b[0m\u001b[0;34m:\u001b[0m\u001b[0;34m]\u001b[0m\u001b[0;34m,\u001b[0m \u001b[0mmetricas_media\u001b[0m\u001b[0;34m[\u001b[0m\u001b[0mn_steps_media_treino_1\u001b[0m\u001b[0;34m:\u001b[0m\u001b[0;34m]\u001b[0m\u001b[0;34m,\u001b[0m \u001b[0;36m1\u001b[0m\u001b[0;34m)\u001b[0m\u001b[0;34m\u001b[0m\u001b[0;34m\u001b[0m\u001b[0m\n\u001b[0m\u001b[1;32m     81\u001b[0m         \u001b[0mp\u001b[0m \u001b[0;34m=\u001b[0m \u001b[0mnp\u001b[0m\u001b[0;34m.\u001b[0m\u001b[0mpoly1d\u001b[0m\u001b[0;34m(\u001b[0m\u001b[0mz\u001b[0m\u001b[0;34m)\u001b[0m\u001b[0;34m\u001b[0m\u001b[0;34m\u001b[0m\u001b[0m\n\u001b[1;32m     82\u001b[0m         \u001b[0maxes\u001b[0m\u001b[0;34m.\u001b[0m\u001b[0mplot\u001b[0m\u001b[0;34m(\u001b[0m\u001b[0mx_plot\u001b[0m\u001b[0;34m[\u001b[0m\u001b[0mn_steps_media_treino_1\u001b[0m\u001b[0;34m:\u001b[0m\u001b[0;34m]\u001b[0m\u001b[0;34m,\u001b[0m \u001b[0mp\u001b[0m\u001b[0;34m(\u001b[0m\u001b[0mx_plot\u001b[0m\u001b[0;34m[\u001b[0m\u001b[0mn_steps_media_treino_1\u001b[0m\u001b[0;34m:\u001b[0m\u001b[0;34m]\u001b[0m\u001b[0;34m)\u001b[0m\u001b[0;34m,\u001b[0m \u001b[0mc\u001b[0m\u001b[0;34m=\u001b[0m\u001b[0;34m'#ff0000'\u001b[0m\u001b[0;34m,\u001b[0m \u001b[0mls\u001b[0m\u001b[0;34m=\u001b[0m\u001b[0;34m\"--\"\u001b[0m\u001b[0;34m,\u001b[0m \u001b[0mlinewidth\u001b[0m\u001b[0;34m=\u001b[0m\u001b[0;36m3\u001b[0m\u001b[0;34m,\u001b[0m \u001b[0mlabel\u001b[0m\u001b[0;34m=\u001b[0m\u001b[0;34m'tendencia eps = 0'\u001b[0m\u001b[0;34m)\u001b[0m\u001b[0;34m\u001b[0m\u001b[0;34m\u001b[0m\u001b[0m\n",
            "\u001b[0;32m<__array_function__ internals>\u001b[0m in \u001b[0;36mpolyfit\u001b[0;34m(*args, **kwargs)\u001b[0m\n",
            "\u001b[0;32m/usr/local/lib/python3.6/dist-packages/numpy/lib/polynomial.py\u001b[0m in \u001b[0;36mpolyfit\u001b[0;34m(x, y, deg, rcond, full, w, cov)\u001b[0m\n\u001b[1;32m    599\u001b[0m         \u001b[0;32mraise\u001b[0m \u001b[0mTypeError\u001b[0m\u001b[0;34m(\u001b[0m\u001b[0;34m\"expected 1D vector for x\"\u001b[0m\u001b[0;34m)\u001b[0m\u001b[0;34m\u001b[0m\u001b[0;34m\u001b[0m\u001b[0m\n\u001b[1;32m    600\u001b[0m     \u001b[0;32mif\u001b[0m \u001b[0mx\u001b[0m\u001b[0;34m.\u001b[0m\u001b[0msize\u001b[0m \u001b[0;34m==\u001b[0m \u001b[0;36m0\u001b[0m\u001b[0;34m:\u001b[0m\u001b[0;34m\u001b[0m\u001b[0;34m\u001b[0m\u001b[0m\n\u001b[0;32m--> 601\u001b[0;31m         \u001b[0;32mraise\u001b[0m \u001b[0mTypeError\u001b[0m\u001b[0;34m(\u001b[0m\u001b[0;34m\"expected non-empty vector for x\"\u001b[0m\u001b[0;34m)\u001b[0m\u001b[0;34m\u001b[0m\u001b[0;34m\u001b[0m\u001b[0m\n\u001b[0m\u001b[1;32m    602\u001b[0m     \u001b[0;32mif\u001b[0m \u001b[0my\u001b[0m\u001b[0;34m.\u001b[0m\u001b[0mndim\u001b[0m \u001b[0;34m<\u001b[0m \u001b[0;36m1\u001b[0m \u001b[0;32mor\u001b[0m \u001b[0my\u001b[0m\u001b[0;34m.\u001b[0m\u001b[0mndim\u001b[0m \u001b[0;34m>\u001b[0m \u001b[0;36m2\u001b[0m\u001b[0;34m:\u001b[0m\u001b[0;34m\u001b[0m\u001b[0;34m\u001b[0m\u001b[0m\n\u001b[1;32m    603\u001b[0m         \u001b[0;32mraise\u001b[0m \u001b[0mTypeError\u001b[0m\u001b[0;34m(\u001b[0m\u001b[0;34m\"expected 1D or 2D array for y\"\u001b[0m\u001b[0;34m)\u001b[0m\u001b[0;34m\u001b[0m\u001b[0;34m\u001b[0m\u001b[0m\n",
            "\u001b[0;31mTypeError\u001b[0m: expected non-empty vector for x"
          ]
        },
        {
          "output_type": "display_data",
          "data": {
            "image/png": "[encoded data removed]",
            "text/plain": [
              "<Figure size 1440x2592 with 12 Axes>"
            ]
          },
          "metadata": {
            "tags": []
          }
        }
      ]
    },
    {
      "cell_type": "code",
      "metadata": {
        "id": "UZeuV5yvmZHZ",
        "colab_type": "code",
        "outputId": "8765de18-b94f-4600-9550-2d8deb4bc9d5",
        "colab": {
          "base_uri": "https://localhost:8080/",
          "height": 141
        }
      },
      "source": [
        "resultados_teste = []\n",
        "callbacks_teste = []\n",
        "callbacks_teste.append( LambdaCallback( on_batch_end=lambda batch,logs: resultados_teste.append( logs ) ) )\n",
        "agente.test(ambiente, nb_episodes=5, verbose=1, visualize=False, callbacks=callbacks_teste)"
      ],
      "execution_count": 0,
      "outputs": [
        {
          "output_type": "stream",
          "text": [
            "Testing for 5 episodes ...\n",
            "Episode 1: reward: -1.002, steps: 3\n",
            "Episode 2: reward: -1.002, steps: 3\n",
            "Episode 3: reward: -1.002, steps: 3\n",
            "Episode 4: reward: -1.002, steps: 3\n",
            "Episode 5: reward: -1.002, steps: 3\n"
          ],
          "name": "stdout"
        },
        {
          "output_type": "execute_result",
          "data": {
            "text/plain": [
              "<tensorflow.python.keras.callbacks.History at 0x7f60d9ccdda0>"
            ]
          },
          "metadata": {
            "tags": []
          },
          "execution_count": 17
        }
      ]
    },
    {
      "cell_type": "code",
      "metadata": {
        "id": "Jq8sb6cYjAkG",
        "colab_type": "code",
        "outputId": "740bfaa2-3d31-4127-ce41-4c68d84a3056",
        "colab": {
          "base_uri": "https://localhost:8080/",
          "height": 105
        }
      },
      "source": [
        "!pip install pygame"
      ],
      "execution_count": 0,
      "outputs": [
        {
          "output_type": "stream",
          "text": [
            "Collecting pygame\n",
            "\u001b[?25l  Downloading https://files.pythonhosted.org/packages/8e/24/ede6428359f913ed9cd1643dd5533aefeb5a2699cc95bea089de50ead586/pygame-1.9.6-cp36-cp36m-manylinux1_x86_64.whl (11.4MB)\n",
            "\u001b[K     |████████████████████████████████| 11.4MB 269kB/s \n",
            "\u001b[?25hInstalling collected packages: pygame\n",
            "Successfully installed pygame-1.9.6\n"
          ],
          "name": "stdout"
        }
      ]
    },
    {
      "cell_type": "code",
      "metadata": {
        "id": "3wILKkXDjB36",
        "colab_type": "code",
        "colab": {}
      },
      "source": [
        "os.environ['SDL_VIDEODRIVER']='dummy'\n",
        "pygame.display.init()\n",
        "pygame.init()\n",
        "\n",
        "tamanho_quadrados = 20\n",
        "tamanho_x = ambiente.observation_space.shape[1]\n",
        "tamanho_y = ambiente.observation_space.shape[2]\n",
        "tela_x = tamanho_x * tamanho_quadrados\n",
        "tela_y = tamanho_y * tamanho_quadrados\n",
        "\n",
        "white = (255, 255, 255)\n",
        "red = (255, 0, 0)\n",
        "blue = (0,0,255)\n",
        "\n",
        "dis = pygame.display.set_mode((tela_x,tela_y))\n",
        "pygame.display.update()\n",
        "pygame.display.set_caption('Snake game')\n",
        "game_over = False\n",
        "\n",
        "clock = pygame.time.Clock()\n",
        "\n",
        "step = 0\n",
        "while not game_over:\n",
        "    for event in pygame.event.get():\n",
        "        if event.type == pygame.QUIT:\n",
        "            game_over = True\n",
        "\n",
        "    dis.fill(white)\n",
        "    for i in range(tamanho_x):\n",
        "        for j in range(tamanho_y):\n",
        "            if resultados_teste[step]['observation'][i][j] == -1:\n",
        "                pygame.draw.rect( dis , blue , [i*tamanho_quadrados,j*tamanho_quadrados,tamanho_quadrados,tamanho_quadrados] )\n",
        "            elif resultados_teste[step]['observation'][i][j] == 1:\n",
        "                pygame.draw.rect( dis , red , [i*tamanho_quadrados,j*tamanho_quadrados,tamanho_quadrados,tamanho_quadrados] )\n",
        "    pygame.display.update()\n",
        "\n",
        "    step += 1\n",
        "    if step == len(resultados_teste):\n",
        "        game_over = True\n",
        "\n",
        "    clock.tick(1000)\n",
        " \n",
        "pygame.quit()"
      ],
      "execution_count": 0,
      "outputs": []
    }
  ]
}