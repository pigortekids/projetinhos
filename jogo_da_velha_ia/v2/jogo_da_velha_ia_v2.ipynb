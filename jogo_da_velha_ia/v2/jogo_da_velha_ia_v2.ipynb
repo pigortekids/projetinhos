{
  "nbformat": 4,
  "nbformat_minor": 0,
  "metadata": {
    "colab": {
      "name": "jogo_da_velha_ia_v2.ipynb",
      "provenance": [],
      "collapsed_sections": []
    },
    "kernelspec": {
      "name": "python3",
      "display_name": "Python 3"
    }
  },
  "cells": [
    {
      "cell_type": "markdown",
      "metadata": {
        "id": "CS-V3-pSA6_B",
        "colab_type": "text"
      },
      "source": [
        "##Esse é um notebook que constroe um jogo da velha com Deep Reinforcement Learning."
      ]
    },
    {
      "cell_type": "markdown",
      "metadata": {
        "id": "FiH1PPQPBY2d",
        "colab_type": "text"
      },
      "source": [
        "###Instalação das bibliotecas faltantes do google colab"
      ]
    },
    {
      "cell_type": "code",
      "metadata": {
        "id": "Sx-QhGFyJtLV",
        "colab_type": "code",
        "outputId": "29ef46b0-7700-4594-b444-97c2ac27ba81",
        "colab": {
          "base_uri": "https://localhost:8080/",
          "height": 680
        }
      },
      "source": [
        "#!pip uninstall tensorflow -y\n",
        "#!pip install tensorflow\n",
        "#!pip uninstall keras -y\n",
        "#!pip install keras\n",
        "!pip install keras-rl2\n",
        "#!pip install wandb #biblioteca de log"
      ],
      "execution_count": 1,
      "outputs": [
        {
          "output_type": "stream",
          "text": [
            "Collecting keras-rl2\n",
            "\u001b[?25l  Downloading https://files.pythonhosted.org/packages/70/df/4d884eccb4a36c596bdeb70442f44e8df1e7ee5bd7a5aad7a80078921ec2/keras-rl2-1.0.3.tar.gz (40kB)\n",
            "\u001b[K     |████████████████████████████████| 51kB 2.2MB/s \n",
            "\u001b[?25hCollecting tensorflow==2.0.0-beta1\n",
            "\u001b[?25l  Downloading https://files.pythonhosted.org/packages/29/6c/2c9a5c4d095c63c2fb37d20def0e4f92685f7aee9243d6aae25862694fd1/tensorflow-2.0.0b1-cp36-cp36m-manylinux1_x86_64.whl (87.9MB)\n",
            "\u001b[K     |████████████████████████████████| 87.9MB 44kB/s \n",
            "\u001b[?25hRequirement already satisfied: google-pasta>=0.1.6 in /usr/local/lib/python3.6/dist-packages (from tensorflow==2.0.0-beta1->keras-rl2) (0.2.0)\n",
            "Requirement already satisfied: grpcio>=1.8.6 in /usr/local/lib/python3.6/dist-packages (from tensorflow==2.0.0-beta1->keras-rl2) (1.28.1)\n",
            "Requirement already satisfied: wheel>=0.26 in /usr/local/lib/python3.6/dist-packages (from tensorflow==2.0.0-beta1->keras-rl2) (0.34.2)\n",
            "Collecting tf-estimator-nightly<1.14.0.dev2019060502,>=1.14.0.dev2019060501\n",
            "\u001b[?25l  Downloading https://files.pythonhosted.org/packages/32/dd/99c47dd007dcf10d63fd895611b063732646f23059c618a373e85019eb0e/tf_estimator_nightly-1.14.0.dev2019060501-py2.py3-none-any.whl (496kB)\n",
            "\u001b[K     |████████████████████████████████| 501kB 47.5MB/s \n",
            "\u001b[?25hRequirement already satisfied: gast>=0.2.0 in /usr/local/lib/python3.6/dist-packages (from tensorflow==2.0.0-beta1->keras-rl2) (0.3.3)\n",
            "Requirement already satisfied: protobuf>=3.6.1 in /usr/local/lib/python3.6/dist-packages (from tensorflow==2.0.0-beta1->keras-rl2) (3.10.0)\n",
            "Requirement already satisfied: astor>=0.6.0 in /usr/local/lib/python3.6/dist-packages (from tensorflow==2.0.0-beta1->keras-rl2) (0.8.1)\n",
            "Requirement already satisfied: absl-py>=0.7.0 in /usr/local/lib/python3.6/dist-packages (from tensorflow==2.0.0-beta1->keras-rl2) (0.9.0)\n",
            "Collecting tb-nightly<1.14.0a20190604,>=1.14.0a20190603\n",
            "\u001b[?25l  Downloading https://files.pythonhosted.org/packages/a4/96/571b875cd81dda9d5dfa1422a4f9d749e67c0a8d4f4f0b33a4e5f5f35e27/tb_nightly-1.14.0a20190603-py3-none-any.whl (3.1MB)\n",
            "\u001b[K     |████████████████████████████████| 3.1MB 49.6MB/s \n",
            "\u001b[?25hRequirement already satisfied: termcolor>=1.1.0 in /usr/local/lib/python3.6/dist-packages (from tensorflow==2.0.0-beta1->keras-rl2) (1.1.0)\n",
            "Requirement already satisfied: wrapt>=1.11.1 in /usr/local/lib/python3.6/dist-packages (from tensorflow==2.0.0-beta1->keras-rl2) (1.12.1)\n",
            "Requirement already satisfied: keras-preprocessing>=1.0.5 in /usr/local/lib/python3.6/dist-packages (from tensorflow==2.0.0-beta1->keras-rl2) (1.1.0)\n",
            "Requirement already satisfied: six>=1.10.0 in /usr/local/lib/python3.6/dist-packages (from tensorflow==2.0.0-beta1->keras-rl2) (1.12.0)\n",
            "Requirement already satisfied: numpy<2.0,>=1.14.5 in /usr/local/lib/python3.6/dist-packages (from tensorflow==2.0.0-beta1->keras-rl2) (1.18.2)\n",
            "Requirement already satisfied: keras-applications>=1.0.6 in /usr/local/lib/python3.6/dist-packages (from tensorflow==2.0.0-beta1->keras-rl2) (1.0.8)\n",
            "Requirement already satisfied: setuptools in /usr/local/lib/python3.6/dist-packages (from protobuf>=3.6.1->tensorflow==2.0.0-beta1->keras-rl2) (46.1.3)\n",
            "Requirement already satisfied: werkzeug>=0.11.15 in /usr/local/lib/python3.6/dist-packages (from tb-nightly<1.14.0a20190604,>=1.14.0a20190603->tensorflow==2.0.0-beta1->keras-rl2) (1.0.1)\n",
            "Requirement already satisfied: markdown>=2.6.8 in /usr/local/lib/python3.6/dist-packages (from tb-nightly<1.14.0a20190604,>=1.14.0a20190603->tensorflow==2.0.0-beta1->keras-rl2) (3.2.1)\n",
            "Requirement already satisfied: h5py in /usr/local/lib/python3.6/dist-packages (from keras-applications>=1.0.6->tensorflow==2.0.0-beta1->keras-rl2) (2.10.0)\n",
            "Building wheels for collected packages: keras-rl2\n",
            "  Building wheel for keras-rl2 (setup.py) ... \u001b[?25l\u001b[?25hdone\n",
            "  Created wheel for keras-rl2: filename=keras_rl2-1.0.3-cp36-none-any.whl size=52852 sha256=aa28774ffc00cf475375555bee8b3d6c171e50907d0f9a51071a4a6a430b102e\n",
            "  Stored in directory: /root/.cache/pip/wheels/75/70/d7/65d0ca0a87c24f988435973065ef7ddf78af43a603a035aac0\n",
            "Successfully built keras-rl2\n",
            "Installing collected packages: tf-estimator-nightly, tb-nightly, tensorflow, keras-rl2\n",
            "  Found existing installation: tensorflow 2.2.0rc3\n",
            "    Uninstalling tensorflow-2.2.0rc3:\n",
            "      Successfully uninstalled tensorflow-2.2.0rc3\n",
            "Successfully installed keras-rl2-1.0.3 tb-nightly-1.14.0a20190603 tensorflow-2.0.0b1 tf-estimator-nightly-1.14.0.dev2019060501\n"
          ],
          "name": "stdout"
        }
      ]
    },
    {
      "cell_type": "markdown",
      "metadata": {
        "id": "thzplI9PBhks",
        "colab_type": "text"
      },
      "source": [
        "###Importação das bibliotecas que serão usadas durante o código."
      ]
    },
    {
      "cell_type": "code",
      "metadata": {
        "id": "h9YHnv0CBKF7",
        "colab_type": "code",
        "colab": {
          "base_uri": "https://localhost:8080/",
          "height": 462
        },
        "outputId": "24b680ae-0a63-4562-9f66-d33c50c55745"
      },
      "source": [
        "import numpy as np\n",
        "import gym\n",
        "from gym import spaces\n",
        "\n",
        "from tensorflow.keras import models\n",
        "from tensorflow.keras import layers\n",
        "from tensorflow.keras import optimizers\n",
        "from tensorflow.keras.constraints import max_norm\n",
        "\n",
        "from datetime import datetime\n",
        "import itertools\n",
        "import argparse\n",
        "import re\n",
        "import os\n",
        "import pickle\n",
        "\n",
        "import matplotlib.pyplot as plt\n",
        "import pandas as pd\n",
        "import time\n",
        "\n",
        "from rl.agents.dqn import DQNAgent\n",
        "from rl.memory import SequentialMemory\n",
        "from rl.policy import GreedyQPolicy, EpsGreedyQPolicy, BoltzmannQPolicy, MaxBoltzmannQPolicy, BoltzmannGumbelQPolicy\n",
        "from keras.callbacks.callbacks import LambdaCallback"
      ],
      "execution_count": 2,
      "outputs": [
        {
          "output_type": "stream",
          "text": [
            "/usr/local/lib/python3.6/dist-packages/tensorflow/python/framework/dtypes.py:516: FutureWarning: Passing (type, 1) or '1type' as a synonym of type is deprecated; in a future version of numpy, it will be understood as (type, (1,)) / '(1,)type'.\n",
            "  _np_qint8 = np.dtype([(\"qint8\", np.int8, 1)])\n",
            "/usr/local/lib/python3.6/dist-packages/tensorflow/python/framework/dtypes.py:517: FutureWarning: Passing (type, 1) or '1type' as a synonym of type is deprecated; in a future version of numpy, it will be understood as (type, (1,)) / '(1,)type'.\n",
            "  _np_quint8 = np.dtype([(\"quint8\", np.uint8, 1)])\n",
            "/usr/local/lib/python3.6/dist-packages/tensorflow/python/framework/dtypes.py:518: FutureWarning: Passing (type, 1) or '1type' as a synonym of type is deprecated; in a future version of numpy, it will be understood as (type, (1,)) / '(1,)type'.\n",
            "  _np_qint16 = np.dtype([(\"qint16\", np.int16, 1)])\n",
            "/usr/local/lib/python3.6/dist-packages/tensorflow/python/framework/dtypes.py:519: FutureWarning: Passing (type, 1) or '1type' as a synonym of type is deprecated; in a future version of numpy, it will be understood as (type, (1,)) / '(1,)type'.\n",
            "  _np_quint16 = np.dtype([(\"quint16\", np.uint16, 1)])\n",
            "/usr/local/lib/python3.6/dist-packages/tensorflow/python/framework/dtypes.py:520: FutureWarning: Passing (type, 1) or '1type' as a synonym of type is deprecated; in a future version of numpy, it will be understood as (type, (1,)) / '(1,)type'.\n",
            "  _np_qint32 = np.dtype([(\"qint32\", np.int32, 1)])\n",
            "/usr/local/lib/python3.6/dist-packages/tensorflow/python/framework/dtypes.py:525: FutureWarning: Passing (type, 1) or '1type' as a synonym of type is deprecated; in a future version of numpy, it will be understood as (type, (1,)) / '(1,)type'.\n",
            "  np_resource = np.dtype([(\"resource\", np.ubyte, 1)])\n",
            "/usr/local/lib/python3.6/dist-packages/tensorboard/compat/tensorflow_stub/dtypes.py:541: FutureWarning: Passing (type, 1) or '1type' as a synonym of type is deprecated; in a future version of numpy, it will be understood as (type, (1,)) / '(1,)type'.\n",
            "  _np_qint8 = np.dtype([(\"qint8\", np.int8, 1)])\n",
            "/usr/local/lib/python3.6/dist-packages/tensorboard/compat/tensorflow_stub/dtypes.py:542: FutureWarning: Passing (type, 1) or '1type' as a synonym of type is deprecated; in a future version of numpy, it will be understood as (type, (1,)) / '(1,)type'.\n",
            "  _np_quint8 = np.dtype([(\"quint8\", np.uint8, 1)])\n",
            "/usr/local/lib/python3.6/dist-packages/tensorboard/compat/tensorflow_stub/dtypes.py:543: FutureWarning: Passing (type, 1) or '1type' as a synonym of type is deprecated; in a future version of numpy, it will be understood as (type, (1,)) / '(1,)type'.\n",
            "  _np_qint16 = np.dtype([(\"qint16\", np.int16, 1)])\n",
            "/usr/local/lib/python3.6/dist-packages/tensorboard/compat/tensorflow_stub/dtypes.py:544: FutureWarning: Passing (type, 1) or '1type' as a synonym of type is deprecated; in a future version of numpy, it will be understood as (type, (1,)) / '(1,)type'.\n",
            "  _np_quint16 = np.dtype([(\"quint16\", np.uint16, 1)])\n",
            "/usr/local/lib/python3.6/dist-packages/tensorboard/compat/tensorflow_stub/dtypes.py:545: FutureWarning: Passing (type, 1) or '1type' as a synonym of type is deprecated; in a future version of numpy, it will be understood as (type, (1,)) / '(1,)type'.\n",
            "  _np_qint32 = np.dtype([(\"qint32\", np.int32, 1)])\n",
            "/usr/local/lib/python3.6/dist-packages/tensorboard/compat/tensorflow_stub/dtypes.py:550: FutureWarning: Passing (type, 1) or '1type' as a synonym of type is deprecated; in a future version of numpy, it will be understood as (type, (1,)) / '(1,)type'.\n",
            "  np_resource = np.dtype([(\"resource\", np.ubyte, 1)])\n",
            "Using TensorFlow backend.\n"
          ],
          "name": "stderr"
        }
      ]
    },
    {
      "cell_type": "markdown",
      "metadata": {
        "id": "oZWZleb7Bspl",
        "colab_type": "text"
      },
      "source": [
        "###Criação da função que define o modelo de Redes Neurais Artificiais que será utilizado."
      ]
    },
    {
      "cell_type": "code",
      "metadata": {
        "id": "UD6coaeAUUoM",
        "colab_type": "code",
        "colab": {}
      },
      "source": [
        "def cria_modelo(n_parametros, n_acoes, input_shape, janela_aprendizado, porc_dropout):\n",
        "\n",
        "    rna = models.Sequential()\n",
        "    rna.add(layers.Flatten(input_shape=(janela_aprendizado,) + input_shape))\n",
        "\n",
        "    rna.add(layers.Dense(64,activation='relu', kernel_constraint=max_norm(3)))\n",
        "    rna.add(layers.Dropout(porc_dropout))\n",
        "\n",
        "    rna.add(layers.Dense(n_acoes, activation='softmax'))\n",
        "\n",
        "    #adam = optimizers.Adam(lr=0.001, beta_1=0.9, beta_2=0.999, decay=0.0)\n",
        "    adam = optimizers.Adam()\n",
        "\n",
        "    #rna.compile(optimizer=adam, loss='categorical_crossentropy', metrics=['acc'])\n",
        "    rna.compile(optimizer=adam, loss='categorical_crossentropy')\n",
        "\n",
        "    #rna.summary()\n",
        "\n",
        "    return rna"
      ],
      "execution_count": 0,
      "outputs": []
    },
    {
      "cell_type": "markdown",
      "metadata": {
        "id": "NXvwwu0PB2U9",
        "colab_type": "text"
      },
      "source": [
        "###Criação do embiente customizado para o agente, contruido seguindo os padrões dos ambientes do Gym (biblioteca de inteligência artificial criada pela OpenAI para reinforcement learning)."
      ]
    },
    {
      "cell_type": "code",
      "metadata": {
        "id": "ljY9ZkukR4rS",
        "colab_type": "code",
        "colab": {}
      },
      "source": [
        "class JogoDaVelhaEnv(gym.Env):\n",
        "    def __init__(self, teste=False):\n",
        "        self.campo = None\n",
        "        self.n_acoes = 9\n",
        "        self.n_parametros = 9\n",
        "        self.action_space = spaces.Discrete(self.n_acoes)\n",
        "        self.observation_space = spaces.Box(low=-1, high=1, shape=(self.n_acoes,), dtype=np.int8)\n",
        "        self.teste = teste\n",
        "        self.reset()\n",
        "\n",
        "    def observacao(self):\n",
        "        obs = np.empty(self.n_acoes, dtype=np.int8)\n",
        "        for i in range(self.n_acoes):\n",
        "            obs[i] = self.campo[i]\n",
        "        return obs\n",
        "\n",
        "    def jogada_oponente(self):\n",
        "        valido = False\n",
        "        while not valido:\n",
        "            jogada = np.random.choice(self.n_acoes)\n",
        "            if self.campo[jogada] == 0:\n",
        "                self.campo[jogada] = -1\n",
        "                valido = True\n",
        "\n",
        "    def acabou(self):\n",
        "\n",
        "        acabou = False\n",
        "        resultado = 0\n",
        "        \n",
        "        for i in range(3):\n",
        "            if self.campo[0 + (i * 3)] + self.campo[1 + (i * 3)] + self.campo[2 + (i * 3)] in [3, -3]: #confere as linhas\n",
        "                resultado = self.campo[0 + (i * 3)] + self.campo[1 + (i * 3)] + self.campo[2 + (i * 3)]\n",
        "            if self.campo[0 + i] + self.campo[3 + i] + self.campo[6 + i] in [3, -3]: #confere as colunas\n",
        "                resultado = self.campo[0 + i] + self.campo[3 + i] + self.campo[6 + i]\n",
        "            \n",
        "        if self.campo[0] + self.campo[4] + self.campo[8] in [3, -3]:\n",
        "            resultado = self.campo[0] + self.campo[4] + self.campo[8]\n",
        "        if self.campo[2] + self.campo[4] + self.campo[6] in [3, -3]:\n",
        "            resultado = self.campo[2] + self.campo[4] + self.campo[6]\n",
        "\n",
        "        resultado = int(resultado / 3)\n",
        "        if resultado != 0:\n",
        "            acabou = True\n",
        "        else:\n",
        "            acabou = True\n",
        "            for i in range(9):\n",
        "                if self.campo[i] == 0:\n",
        "                    acabou = False\n",
        "\n",
        "        return acabou, resultado\n",
        "\n",
        "    def step(self, acao):\n",
        "\n",
        "        recompensa = 0\n",
        "        valido = False\n",
        "        acabou = True\n",
        "        resultado = 0\n",
        "\n",
        "        if self.campo[acao] == 0:\n",
        "            self.campo[acao] = 1\n",
        "            valido = True\n",
        "            acabou, resultado = self.acabou()\n",
        "            if acabou and resultado == 1:\n",
        "                recompensa = 100\n",
        "        else:\n",
        "            recompensa = -100\n",
        "\n",
        "        if valido and not acabou:\n",
        "            self.jogada_oponente()\n",
        "            acabou, resultado = self.acabou()\n",
        "            if acabou and resultado == -1:\n",
        "                recompensa = -100\n",
        "\n",
        "        if acabou and resultado == 0:\n",
        "            recompensa = 20\n",
        "\n",
        "        #return self.observacao(), recompensa, acabou, {'resultado':resultado}\n",
        "        return self.observacao(), recompensa, acabou, {}\n",
        "\n",
        "    def reset(self):\n",
        "        self.campo = np.zeros(self.n_parametros)\n",
        "        comeca = bool(np.random.choice(2))\n",
        "        if not self.teste and not comeca:\n",
        "            self.jogada_oponente()\n",
        "        return self.observacao()\n",
        "\n",
        "    def render(self):\n",
        "        pass"
      ],
      "execution_count": 0,
      "outputs": []
    },
    {
      "cell_type": "markdown",
      "metadata": {
        "id": "8wVDuY17CWcY",
        "colab_type": "text"
      },
      "source": [
        "###Criação de uma política customizada para trabalhar com decaimento do epsilon."
      ]
    },
    {
      "cell_type": "code",
      "metadata": {
        "id": "DbvjHplrVJLw",
        "colab_type": "code",
        "colab": {}
      },
      "source": [
        "from rl.policy import Policy\n",
        "\n",
        "class MaxBoltzmannQPolicyEpsDecay(Policy):\n",
        "    def __init__(self, eps=.1, tau=1., clip=(-500., 500.), n_episodios):\n",
        "        super(MaxBoltzmannQPolicy, self).__init__()\n",
        "        self.eps = eps\n",
        "        self.tau = tau\n",
        "        self.clip = clip\n",
        "        self.n_episodios = n_episodios\n",
        "        self.episodio = \n",
        "\n",
        "    def select_action(self, q_values):\n",
        "        assert q_values.ndim == 1\n",
        "        q_values = q_values.astype('float64')\n",
        "        nb_actions = q_values.shape[0]\n",
        "\n",
        "        if np.random.uniform() < self.eps:\n",
        "            exp_values = np.exp(np.clip(q_values / self.tau, self.clip[0], self.clip[1]))\n",
        "            probs = exp_values / np.sum(exp_values)\n",
        "            action = np.random.choice(range(nb_actions), p=probs)\n",
        "        else:\n",
        "            action = np.argmax(q_values)\n",
        "        return action\n",
        "\n",
        "    def get_config(self):\n",
        "        config = super(MaxBoltzmannQPolicy, self).get_config()\n",
        "        config['eps'] = self.eps\n",
        "        config['tau'] = self.tau\n",
        "        config['clip'] = self.clip\n",
        "        return config"
      ],
      "execution_count": 0,
      "outputs": []
    },
    {
      "cell_type": "markdown",
      "metadata": {
        "id": "vC7w-R6kCsZS",
        "colab_type": "text"
      },
      "source": [
        "###Definição de todas as variáveis importantes do código e o treino do agente."
      ]
    },
    {
      "cell_type": "code",
      "metadata": {
        "id": "rZYmaxrAeYlV",
        "colab_type": "code",
        "outputId": "6c7fe8da-c0b0-43fc-c1f1-f3bc2b48acb3",
        "colab": {
          "base_uri": "https://localhost:8080/",
          "height": 680
        }
      },
      "source": [
        "ambiente = JogoDaVelhaEnv() #cria o ambiente para o jogo\n",
        "n_parametros = ambiente.n_parametros #define o numero de entradas da rede\n",
        "n_acoes = ambiente.n_acoes #define o numero de saidas da rede\n",
        "input_shape = ambiente.observation_space.shape\n",
        "janela_aprendizado = 1 #quantas linhas da memoria vai pegar pra treinar o modelo por vez\n",
        "n_steps = 100000\n",
        "\n",
        "memoria = SequentialMemory(limit=50000, window_length=janela_aprendizado)\n",
        "modelo = cria_modelo( 9, 9, input_shape, janela_aprendizado, 0.2 )\n",
        "#politica = MaxBoltzmannQPolicy( eps=0.5, tau=1.5 ) #tau grande -> Aleatorio, tau pequeno -> Greedy\n",
        "politica = EpsGreedyQPolicy( eps=0.3 )\n",
        "agente = DQNAgent( model=modelo, policy=politica, nb_actions=n_acoes, memory=memoria, enable_double_dqn=True, test_policy=GreedyQPolicy() )\n",
        "#adam = optimizers.Adam(lr=0.001, beta_1=0.9, beta_2=0.999, decay=0.0)\n",
        "agente.compile(optimizers.Adam(), metrics=['mse', 'mae', 'acc'])\n",
        "#agente.compile(optimizers.Adam())\n",
        "\n",
        "historia_treino = []\n",
        "\"\"\"\n",
        "save_log_callback_treino = LambdaCallback(\n",
        "    on_epoch_begin=lambda epoch,logs: historia_treino.append(['on_epoch_begin', epoch, logs])\n",
        "    ,on_epoch_end=lambda epoch,logs: historia_treino.append(['on_epoch_end', epoch, logs])\n",
        "    ,on_batch_begin=lambda batch,logs: historia_treino.append(['on_batch_begin', batch, logs])\n",
        "    ,on_batch_end=lambda batch,logs: historia_treino.append(['on_batch_end', batch, logs])\n",
        "    ,on_train_begin=lambda logs: historia_treino.append(['on_train_begin', logs])\n",
        "    ,on_train_end=lambda logs: historia_treino.append(['on_train_end', logs])\n",
        "    )\n",
        "\"\"\"\n",
        "save_log_callback_treino = LambdaCallback( on_batch_end=lambda batch,logs: historia_treino.append( logs ) )\n",
        "\n",
        "agente.fit(env=ambiente, nb_steps=n_steps, visualize=False, verbose=1, callbacks=[save_log_callback_treino])\n",
        "\n",
        "agente.save_weights('dqn.h5f', overwrite=True)"
      ],
      "execution_count": 64,
      "outputs": [
        {
          "output_type": "stream",
          "text": [
            "Training for 100000 steps ...\n",
            "Interval 1 (0 steps performed)\n",
            "10000/10000 [==============================] - 96s 10ms/step - reward: 8.8700\n",
            "4453 episodes - episode_reward: 19.919 [-100.000, 100.000] - loss: 150.436 - mse: 33.467 - mae: 1.098 - acc: 0.488 - mean_q: 0.791\n",
            "\n",
            "Interval 2 (10000 steps performed)\n",
            "10000/10000 [==============================] - 108s 11ms/step - reward: 10.0080\n",
            "4980 episodes - episode_reward: 20.096 [-100.000, 100.000] - loss: 144.704 - mse: 32.194 - mae: 1.180 - acc: 0.592 - mean_q: 0.911\n",
            "\n",
            "Interval 3 (20000 steps performed)\n",
            "10000/10000 [==============================] - 107s 11ms/step - reward: 10.1060\n",
            "4975 episodes - episode_reward: 20.314 [-100.000, 100.000] - loss: 142.419 - mse: 31.684 - mae: 1.189 - acc: 0.642 - mean_q: 0.942\n",
            "\n",
            "Interval 4 (30000 steps performed)\n",
            "10000/10000 [==============================] - 108s 11ms/step - reward: 10.2500\n",
            "5031 episodes - episode_reward: 20.374 [-100.000, 100.000] - loss: 144.567 - mse: 32.159 - mae: 1.210 - acc: 0.671 - mean_q: 0.956\n",
            "\n",
            "Interval 5 (40000 steps performed)\n",
            "10000/10000 [==============================] - 109s 11ms/step - reward: 10.1880\n",
            "5074 episodes - episode_reward: 20.079 [-100.000, 100.000] - loss: 146.297 - mse: 32.540 - mae: 1.227 - acc: 0.715 - mean_q: 0.969\n",
            "\n",
            "Interval 6 (50000 steps performed)\n",
            "10000/10000 [==============================] - 110s 11ms/step - reward: 10.4900\n",
            "5145 episodes - episode_reward: 20.389 [-100.000, 100.000] - loss: 145.687 - mse: 32.405 - mae: 1.232 - acc: 0.717 - mean_q: 0.970\n",
            "\n",
            "Interval 7 (60000 steps performed)\n",
            "10000/10000 [==============================] - 113s 11ms/step - reward: 10.6100\n",
            "5185 episodes - episode_reward: 20.463 [-100.000, 100.000] - loss: 148.810 - mse: 33.099 - mae: 1.245 - acc: 0.718 - mean_q: 0.972\n",
            "\n",
            "Interval 8 (70000 steps performed)\n",
            "10000/10000 [==============================] - 112s 11ms/step - reward: 10.6720\n",
            "5126 episodes - episode_reward: 20.819 [-100.000, 100.000] - loss: 149.113 - mse: 33.166 - mae: 1.250 - acc: 0.721 - mean_q: 0.976\n",
            "\n",
            "Interval 9 (80000 steps performed)\n",
            "10000/10000 [==============================] - 112s 11ms/step - reward: 10.6900\n",
            "5169 episodes - episode_reward: 20.681 [-100.000, 100.000] - loss: 152.446 - mse: 33.906 - mae: 1.262 - acc: 0.726 - mean_q: 0.976\n",
            "\n",
            "Interval 10 (90000 steps performed)\n",
            " 4058/10000 [===========>..................] - ETA: 1:07 - reward: 10.6654done, took 1019.373 seconds\n"
          ],
          "name": "stdout"
        }
      ]
    },
    {
      "cell_type": "markdown",
      "metadata": {
        "id": "Xvuq7aoxC86x",
        "colab_type": "text"
      },
      "source": [
        "###Teste do agente que acabou de ser treinado."
      ]
    },
    {
      "cell_type": "code",
      "metadata": {
        "id": "d1kqhgHTh1wq",
        "colab_type": "code",
        "colab": {}
      },
      "source": [
        "i = 0\n",
        "for log in historia_treino:\n",
        "    print(log)\n",
        "    #metricas = log['metrics']\n",
        "    #print(metricas)\n",
        "    if i == 100:\n",
        "        break\n",
        "    i += 1"
      ],
      "execution_count": 0,
      "outputs": []
    },
    {
      "cell_type": "code",
      "metadata": {
        "id": "NluO8gI6fgzt",
        "colab_type": "code",
        "outputId": "6ce89e9b-0ed8-4d00-db4d-c9a664eae8e3",
        "colab": {
          "base_uri": "https://localhost:8080/",
          "height": 85
        }
      },
      "source": [
        "agente = DQNAgent( model=modelo, policy=GreedyQPolicy(), nb_actions=n_acoes, memory=memoria )\n",
        "agente.compile(optimizers.Adam(), metrics=['mae'])\n",
        "agente.load_weights('dqn.h5f')\n",
        "\n",
        "historia_teste = []\n",
        "save_log_callback_teste = LambdaCallback(on_batch_end=lambda batch,logs: historia_teste.append(logs))\n",
        "\n",
        "agente.fit(env=ambiente, nb_steps=n_steps/10, visualize=False, verbose=1, callbacks=[save_log_callback_teste])\n",
        "\n",
        "#agente.save_weights('dqn_pos_teste.h5f', overwrite=True)"
      ],
      "execution_count": 65,
      "outputs": [
        {
          "output_type": "stream",
          "text": [
            "Training for 10000.0 steps ...\n",
            "Interval 1 (0 steps performed)\n",
            " 1472/10000 [===>..........................] - ETA: 45s - reward: 12.3777done, took 7.838 seconds\n"
          ],
          "name": "stdout"
        },
        {
          "output_type": "execute_result",
          "data": {
            "text/plain": [
              "<tensorflow.python.keras.callbacks.History at 0x7efc5775bb00>"
            ]
          },
          "metadata": {
            "tags": []
          },
          "execution_count": 65
        }
      ]
    },
    {
      "cell_type": "markdown",
      "metadata": {
        "id": "P07jkCV-DBve",
        "colab_type": "text"
      },
      "source": [
        "###Visualização dos resultados do teste e de treino."
      ]
    },
    {
      "cell_type": "code",
      "metadata": {
        "id": "vCBN-azqY9T7",
        "colab_type": "code",
        "outputId": "80b46980-1686-4495-cb5d-b10324a60e67",
        "colab": {
          "base_uri": "https://localhost:8080/",
          "height": 723
        }
      },
      "source": [
        "divisores = [10, 100, 1000]\n",
        "dict_recompensas = [[historia_treino, 'treino'], [historia_teste, 'teste']]\n",
        "for dict_recompensa in dict_recompensas:\n",
        "    hist_recompensa = dict_recompensa[0]\n",
        "    tipo = dict_recompensa[1]\n",
        "    fig, axs = plt.subplots(1, 3, gridspec_kw={'wspace': 0}, figsize=(20,5))\n",
        "    fig.suptitle('Medias de recompensas por episodios do {}'.format(tipo))\n",
        "    axs[0].set(ylabel='recompensa')\n",
        "    grafico = 0\n",
        "    for divisor in divisores:\n",
        "        recompensas = []\n",
        "        recompensas_media = []\n",
        "        recompensas_ref = []\n",
        "        ref = 0\n",
        "        for i in range(len(hist_recompensa) + 1):\n",
        "            if len(recompensas) % divisor == 0:\n",
        "                recompensas_media.append( sum(recompensas[-divisor:]) / divisor )\n",
        "            if len(hist_recompensa) == i or hist_recompensa[i]['episode'] != ref:\n",
        "                recompensas.append( round(sum(recompensas_ref), 1) )\n",
        "                ref += 1\n",
        "                recompensas_ref = []\n",
        "            if len(hist_recompensa) != i:\n",
        "                recompensas_ref.append( hist_recompensa[i]['reward'] )\n",
        "\n",
        "        #plota grafico\n",
        "        x_plot = np.arange(len(recompensas_media))\n",
        "        axs[grafico].set(xlabel='episodio / {}'.format(divisor))\n",
        "        axs[grafico].plot(x_plot, recompensas_media)\n",
        "        #linha de tendencia\n",
        "        z = np.polyfit(x_plot, recompensas_media, 1)\n",
        "        p = np.poly1d(z)\n",
        "        axs[grafico].plot(x_plot, p(x_plot),\"r--\")\n",
        "        axs[grafico].label_outer()\n",
        "        grafico += 1\n",
        "\n",
        "        fig.savefig('result_{}.png'.format(tipo), bbox_inches='tight') #salva o grafico em uma foto"
      ],
      "execution_count": 66,
      "outputs": [
        {
          "output_type": "display_data",
          "data": {
            "image/png": "[encoded data removed]",
            "text/plain": [
              "<Figure size 1440x360 with 3 Axes>"
            ]
          },
          "metadata": {
            "tags": [],
            "needs_background": "light"
          }
        },
        {
          "output_type": "display_data",
          "data": {
            "image/png": "[encoded data removed]",
            "text/plain": [
              "<Figure size 1440x360 with 3 Axes>"
            ]
          },
          "metadata": {
            "tags": [],
            "needs_background": "light"
          }
        }
      ]
    },
    {
      "cell_type": "markdown",
      "metadata": {
        "id": "e8OyCekKDFqF",
        "colab_type": "text"
      },
      "source": [
        "###Jogando contra o agente treinado."
      ]
    },
    {
      "cell_type": "code",
      "metadata": {
        "id": "Ewum4j3u5SxT",
        "colab_type": "code",
        "outputId": "6d47d1b1-2073-4b44-9b3f-73be0a9274d0",
        "colab": {
          "base_uri": "https://localhost:8080/",
          "height": 561
        }
      },
      "source": [
        "def jogada_agente(agente, estado):\n",
        "    estado_reshape = [estado]\n",
        "    saida = agente.compute_q_values( estado_reshape )\n",
        "    jogada = np.argmax( saida )\n",
        "    return jogada\n",
        "\n",
        "def printa_campo(estado, simbolo_jogador):\n",
        "    for i in range(len(estado)):\n",
        "        if( i ) % 3 == 0:\n",
        "            print()\n",
        "        else:\n",
        "            print('| ', end='')\n",
        "        simbolo_maquina = 'O'\n",
        "        if simbolo_jogador == 'O':\n",
        "            simbolo_maquina = 'X'\n",
        "        if estado[i] == -1:\n",
        "            print(simbolo_jogador + ' ', end='')\n",
        "        elif estado[i] == 1:\n",
        "            print(simbolo_maquina + ' ', end='')\n",
        "        else:\n",
        "            print('- ', end='')\n",
        "    print()\n",
        "\n",
        "#jogar contra a maquina\n",
        "ambiente = JogoDaVelhaEnv( teste=True ) #cria o ambiente para o jogo\n",
        "agente = DQNAgent( model=modelo, policy=GreedyQPolicy(), nb_actions=n_acoes, memory=memoria )\n",
        "agente.compile(optimizers.Adam())\n",
        "agente.load_weights('dqn.h5f')\n",
        "\n",
        "vez_do_jogador = False\n",
        "acabou = False\n",
        "\n",
        "while not acabou:\n",
        "    if vez_do_jogador:\n",
        "        #jogada do jogador\n",
        "        jogada_valida = False\n",
        "        while not jogada_valida:\n",
        "            jogada = int(input('campo a jogar: '))\n",
        "            if ambiente.campo[ jogada ] != 0:\n",
        "                print('campo inválido')\n",
        "            else:\n",
        "                ambiente.campo[ jogada ] = -1\n",
        "                jogada_valida = True\n",
        "                acabou, resultado = ambiente.acabou()\n",
        "\n",
        "    else:\n",
        "        #jogada da maquina\n",
        "        jogada_valida = False\n",
        "        while not jogada_valida:\n",
        "            jogada = jogada_agente( agente, ambiente.observacao() )\n",
        "            if ambiente.campo[ jogada ] == 0:\n",
        "                ambiente.campo[ jogada ] = 1\n",
        "                jogada_valida = True\n",
        "                acabou, resultado = ambiente.acabou()\n",
        "            else:\n",
        "                print('jogada invalida da IA')\n",
        "                acabou = True\n",
        "                resultado = -1\n",
        "    \n",
        "    vez_do_jogador = not vez_do_jogador\n",
        "    printa_campo( ambiente.observacao(), 'X' )\n",
        "\n",
        "ganhador = None #define uma variavel para quem ganhou o jogo\n",
        "if resultado == -1: #se o resultado for 1\n",
        "    ganhador = 'Voce ganhou' #o ganhador foi a IA\n",
        "elif resultado == 1: #se o resultado for -1\n",
        "    ganhador = 'A IA ganhou' #o ganhador foi o oponente aleatorio\n",
        "else: #se o resultado for 0\n",
        "    ganhador = 'Deu velha' #o jogo deu velha\n",
        "\n",
        "print(ganhador)"
      ],
      "execution_count": 55,
      "outputs": [
        {
          "output_type": "stream",
          "text": [
            "\n",
            "- | - | - \n",
            "- | - | - \n",
            "- | - | O \n",
            "campo a jogar: 7\n",
            "\n",
            "- | - | - \n",
            "- | - | - \n",
            "- | X | O \n",
            "\n",
            "- | - | - \n",
            "- | - | O \n",
            "- | X | O \n",
            "campo a jogar: 2\n",
            "\n",
            "- | - | X \n",
            "- | - | O \n",
            "- | X | O \n",
            "\n",
            "- | - | X \n",
            "- | O | O \n",
            "- | X | O \n",
            "campo a jogar: 0\n",
            "\n",
            "X | - | X \n",
            "- | O | O \n",
            "- | X | O \n",
            "\n",
            "X | - | X \n",
            "O | O | O \n",
            "- | X | O \n",
            "A IA ganhou\n"
          ],
          "name": "stdout"
        }
      ]
    }
  ]
}